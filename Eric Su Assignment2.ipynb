{
  "nbformat": 4,
  "nbformat_minor": 0,
  "metadata": {
    "colab": {
      "name": "Assignment2",
      "provenance": [],
      "include_colab_link": true
    },
    "kernelspec": {
      "name": "python3",
      "display_name": "Python 3"
    },
    "language_info": {
      "name": "python"
    }
  },
  "cells": [
    {
      "cell_type": "markdown",
      "metadata": {
        "id": "view-in-github",
        "colab_type": "text"
      },
      "source": [
        "<a href=\"https://colab.research.google.com/gist/Sue11221/1f4345efa6e70c8cbcf344e63b896f22/assignment2.ipynb\" target=\"_parent\"><img src=\"https://colab.research.google.com/assets/colab-badge.svg\" alt=\"Open In Colab\"/></a>"
      ]
    },
    {
      "cell_type": "markdown",
      "metadata": {
        "id": "vAQZLh6lDagH"
      },
      "source": [
        "#[Introduction to Python for Science and Engineering](https://www.taylorfrancis.com/books/mono/10.1201/9780429506413/introduction-python-science-engineering-david-pine)\n",
        "\n",
        "###The following exercises correspond to chapter [3: Strings, Lists, Arrays, and Dictionaries](https://www.taylorfrancis.com/chapters/mono/10.1201/9780429506413-3/strings-lists-arrays-dictionaries-david-pine)\n",
        "\n",
        "[old manual (no library access required)](https://physics.nyu.edu/pine/pymanual/html/pymanMaster.html)\n",
        "[old link (no library access required)](https://physics.nyu.edu/pine/pymanual/html/chap3/chap3_arrays.html)"
      ]
    },
    {
      "cell_type": "code",
      "metadata": {
        "id": "9narVfFTwQ_M"
      },
      "source": [
        "##RUN THIS CODE BLOCK FIRST - it brings in functions like sin, cos, log, ...\n",
        "#in the future, we'll do things slightly differently to make your code more robust and portable...\n",
        "from numpy import *"
      ],
      "execution_count": 1,
      "outputs": []
    },
    {
      "cell_type": "markdown",
      "metadata": {
        "id": "0rvmyQYoDm92"
      },
      "source": [
        "##3.6.1\n",
        "\n",
        "Create an array of 9 evenly spaced numbers going from 0 to 29 (inclusive) and give it a variable name $r$. Find the square of each element of the array (as simply as possible). Find twice the value of each element of the array in two different ways: ($i$) using addition and ($ii$) using multiplication. Use the print command to display the results."
      ]
    },
    {
      "cell_type": "code",
      "metadata": {
        "id": "2wHebld2DMyV",
        "colab": {
          "base_uri": "https://localhost:8080/"
        },
        "outputId": "3f5a6f5a-9bd3-400f-9857-16f086a5b997"
      },
      "source": [
        "##USE THIS CODE BLOCK TO COMPLETE EXERCISE 3.6.1##\n",
        "r = linspace(0,29,9)\n",
        "for i in range(9):\n",
        "  print(double(r[i])**2)\n",
        "  print(r[i]+r[i])\n",
        "  print(r[i]*2)\n",
        "  print()"
      ],
      "execution_count": 32,
      "outputs": [
        {
          "output_type": "stream",
          "name": "stdout",
          "text": [
            "0.0\n",
            "0.0\n",
            "0.0\n",
            "\n",
            "13.140625\n",
            "7.25\n",
            "7.25\n",
            "\n",
            "52.5625\n",
            "14.5\n",
            "14.5\n",
            "\n",
            "118.265625\n",
            "21.75\n",
            "21.75\n",
            "\n",
            "210.25\n",
            "29.0\n",
            "29.0\n",
            "\n",
            "328.515625\n",
            "36.25\n",
            "36.25\n",
            "\n",
            "473.0625\n",
            "43.5\n",
            "43.5\n",
            "\n",
            "643.890625\n",
            "50.75\n",
            "50.75\n",
            "\n",
            "841.0\n",
            "58.0\n",
            "58.0\n",
            "\n"
          ]
        }
      ]
    },
    {
      "cell_type": "markdown",
      "metadata": {
        "id": "LvObVXDiEVeH"
      },
      "source": [
        "##3.6.2\n",
        "\n",
        "Create the following arrays:\n",
        "1. an array of 100 elements all equal to $e$, the base of the natural logarithm;\n",
        "1. an array in 1-degree increments of all the angles in degrees from 0 to 360 degrees;\n",
        "1. an array in 1-degree increments of all the angles in radians from 0 to 360 degrees;\n",
        "1. an array from 12 to 17, not including 17, in 0.2 increments;\n",
        "1. an array from 12 to 17, including 17, in 0.2 increments."
      ]
    },
    {
      "cell_type": "code",
      "metadata": {
        "id": "WNkLyTzHE2n9",
        "colab": {
          "base_uri": "https://localhost:8080/"
        },
        "outputId": "ab5f0314-e4e5-4468-cdf9-b9ea0114e3b1"
      },
      "source": [
        "##USE THIS CODE BLOCK TO COMPLETE EXERCISE 3\n",
        "g = []\n",
        "\n",
        "for i in range(100):\n",
        "  g.append(exp(1))\n",
        "g = array(g)\n",
        "\n",
        "\n",
        "r = arange(361.)*pi/180\n",
        "d = degrees(r)\n",
        "a = arange(12,17,0.2)\n",
        "b = arange(12,17.2,0.2)"
      ],
      "execution_count": 52,
      "outputs": [
        {
          "output_type": "stream",
          "name": "stdout",
          "text": [
            "[12.  12.2 12.4 12.6 12.8 13.  13.2 13.4 13.6 13.8 14.  14.2 14.4 14.6\n",
            " 14.8 15.  15.2 15.4 15.6 15.8 16.  16.2 16.4 16.6 16.8 17. ]\n"
          ]
        }
      ]
    },
    {
      "cell_type": "markdown",
      "metadata": {
        "id": "wEGz-9j0E5LS"
      },
      "source": [
        "##3.6.3\n",
        "\n",
        "The position of a ball at time $t$ dropped with zero initial velocity from a height $h_0$ is given by\n",
        "\n",
        "$y = h_0 - \\frac{1}{2} gt^2$\n",
        "\n",
        "where $g=9.8$ m/s$^2$. Suppose $h_0 = 10$ m. Find the sequence of times when the ball passes each half meter assuming the ball is dropped at $t=0$. Hint: Create a NumPy array for $y$ that goes from 10 to 0 in increments of -0.5 using the `arange` fucntion. Solving the above equation for $t$, we find that\n",
        "\n",
        "$t = \\sqrt{\\frac{2\\left(h_0 -y\\right)}{g}}$\n",
        "\n",
        "Using this equation and the array you created, find the sequence of times when the ball passes each half meter. Your code should yield the following results for the $y$ and $t$ arrays:\n",
        "\n",
        "```\n",
        "In [2]: y\n",
        "Out[2]: array([10. , 9.5, 9. , 8.5, 8. , 7.5, 7. , 6.5,\n",
        "                6. , 5.5, 5. , 4.5, 4. , 3.5, 3. , 2.5,\n",
        "                2. , 1.5, 1. , 0.5])\n",
        "\n",
        "In [3]: t\n",
        "Out[3]: array([ 0.        , 0.31943828, 0.45175395,\n",
        "                0.55328334, 0.63887656, 0.71428571,\n",
        "                0.7824608 , 0.84515425, 0.9035079 ,\n",
        "                0.95831485, 1.01015254, 1.05945693,\n",
        "                1.10656667, 1.15175111, 1.19522861,\n",
        "                1.23717915, 1.27775313, 1.31707778,\n",
        "                1.35526185, 1.39239919])\n",
        "```\n"
      ]
    },
    {
      "cell_type": "code",
      "metadata": {
        "id": "r9_4-QanqImi",
        "colab": {
          "base_uri": "https://localhost:8080/"
        },
        "outputId": "d6bb3e84-5749-49ff-80e1-ce03fd919242"
      },
      "source": [
        "##USE THIS CODE BLOCK TO COMPLETE EXERCISE 3.6.3##\n",
        "y = arange(10,0,-0.5)\n",
        "print(\"y\")\n",
        "print(\"array(\"+str(y)+\")\")\n",
        "print()\n",
        "print(\"t\")\n",
        "t = []\n",
        "for i in range(size(y)):\n",
        "  t.append(sqrt((2*(10-y[i]))/9.8))\n",
        "t = array(t)\n",
        "print(\"array(\"+str(t)+\")\")"
      ],
      "execution_count": 67,
      "outputs": [
        {
          "output_type": "stream",
          "name": "stdout",
          "text": [
            "y\n",
            "array([10.   9.5  9.   8.5  8.   7.5  7.   6.5  6.   5.5  5.   4.5  4.   3.5\n",
            "  3.   2.5  2.   1.5  1.   0.5])\n",
            "\n",
            "t\n",
            "array([0.         0.31943828 0.45175395 0.55328334 0.63887656 0.71428571\n",
            " 0.7824608  0.84515425 0.9035079  0.95831485 1.01015254 1.05945693\n",
            " 1.10656667 1.15175111 1.19522861 1.23717915 1.27775313 1.31707778\n",
            " 1.35526185 1.39239919])\n"
          ]
        }
      ]
    },
    {
      "cell_type": "markdown",
      "metadata": {
        "id": "mydPPWNGqMLi"
      },
      "source": [
        "##3.6.4\n",
        "\n",
        "Recalling that the average velocity over an interval $\\Delta t$ is defined as $\\bar{v}=\\Delta y/ \\Delta t$, find the average velocity for each time interval in the previous problem using NumPy arrays. Keep in mind that the number of time intervals is one less than the number of times. Hint: What are the arrays `y[1:20]` and `y[0:19]`? What does the array `y[1:20]-y[0:19]` represent? (Try printing out the two arrays from the IPython shell.) Using this last array and a similar one involving time, find the array of average velocities. Bonus: Can you think of a more elegant way of representing `y[1:20]-y[0:19]` that does not make explicit reference to the number of elements in the `y` array--one that would work for any length array?\n",
        "\n",
        "You should get the following answer for the array of velocities:\n",
        "\n",
        "```\n",
        "In [5]: v\n",
        "Out[5]: array([-1.56524758,  -3.77884195,  -4.9246827 ,\n",
        "               -5.84158351,  -6.63049517,  -7.3340579 ,\n",
        "               -7.97531375,  -8.56844457,  -9.12293148,\n",
        "               -9.64549022,  -10.14108641, -10.61351563,\n",
        "               -11.06575711, -11.50020061, -11.91879801,\n",
        "               -12.32316816, -12.71467146, -13.09446421,\n",
        "               -13.46353913])\n",
        "```\n"
      ]
    },
    {
      "cell_type": "code",
      "metadata": {
        "id": "G9HA1ONprik6",
        "colab": {
          "base_uri": "https://localhost:8080/"
        },
        "outputId": "33ff2a9f-5422-49fb-e645-30af84717430"
      },
      "source": [
        "##USE THIS CODE BLOCK TO COMPLETE EXERCISE 3.6.4##\n",
        "print(\"v\")\n",
        "v = []\n",
        "p = 1\n",
        "for i in range(1,size(y)):\n",
        "  v.append(-(0.5/(t[i]-t[i-1])))\n",
        "v = array(v)\n",
        "print(\"array(\"+str(v)+\")\")"
      ],
      "execution_count": 100,
      "outputs": [
        {
          "output_type": "stream",
          "name": "stdout",
          "text": [
            "v\n",
            "array([ -1.56524758  -3.77884195  -4.9246827   -5.84158351  -6.63049517\n",
            "  -7.3340579   -7.97531375  -8.56844457  -9.12293148  -9.64549022\n",
            " -10.14108641 -10.61351563 -11.06575711 -11.50020061 -11.91879801\n",
            " -12.32316816 -12.71467146 -13.09446421 -13.46353913])\n"
          ]
        }
      ]
    }
  ]
}
